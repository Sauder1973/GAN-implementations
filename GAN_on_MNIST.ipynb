{
  "nbformat": 4,
  "nbformat_minor": 0,
  "metadata": {
    "colab": {
      "name": "GAN_on_MNIST.ipynb",
      "provenance": [],
      "collapsed_sections": []
    },
    "kernelspec": {
      "name": "python3",
      "display_name": "Python 3"
    },
    "accelerator": "GPU"
  },
  "cells": [
    {
      "cell_type": "markdown",
      "metadata": {
        "id": "ePyPgA-nd0yG",
        "colab_type": "text"
      },
      "source": [
        "# Import statements"
      ]
    },
    {
      "cell_type": "code",
      "metadata": {
        "id": "vGlgrmDNd0T4",
        "colab_type": "code",
        "colab": {}
      },
      "source": [
        "import torch\n",
        "from torchvision import transforms, datasets\n",
        "import torch.nn as nn\n",
        "from torch import optim as optim"
      ],
      "execution_count": 0,
      "outputs": []
    },
    {
      "cell_type": "markdown",
      "metadata": {
        "id": "O0pJjIAed8JP",
        "colab_type": "text"
      },
      "source": [
        "# Select Device"
      ]
    },
    {
      "cell_type": "code",
      "metadata": {
        "id": "1I44mJWydmxT",
        "colab_type": "code",
        "colab": {
          "base_uri": "https://localhost:8080/",
          "height": 34
        },
        "outputId": "070e72f7-b30b-4f52-f5d7-130968edd405"
      },
      "source": [
        "device = torch.device(\"cuda\" if torch.cuda.is_available() else \"cpu\")\n",
        "print(device)"
      ],
      "execution_count": 9,
      "outputs": [
        {
          "output_type": "stream",
          "text": [
            "cuda\n"
          ],
          "name": "stdout"
        }
      ]
    },
    {
      "cell_type": "markdown",
      "metadata": {
        "id": "WnO0O9K2P3QZ",
        "colab_type": "text"
      },
      "source": [
        "# Load dataset and declare training parameters"
      ]
    },
    {
      "cell_type": "code",
      "metadata": {
        "id": "yGvGwmtNXL6S",
        "colab_type": "code",
        "colab": {}
      },
      "source": [
        "training_parameters = {\n",
        "    \"n_epochs\": 100,\n",
        "    \"batch_size\": 100,\n",
        "}\n",
        "data_loader = torch.utils.data.DataLoader(\n",
        "  \n",
        "  datasets.MNIST('./', train=True, download=True,\n",
        "                             transform=transforms.Compose([\n",
        "                               transforms.ToTensor(),\n",
        "                               transforms.Normalize(\n",
        "                                 (0.5,), (0.5,))\n",
        "                             ])),\n",
        "  batch_size=training_parameters[\"batch_size\"], shuffle=True)"
      ],
      "execution_count": 0,
      "outputs": []
    },
    {
      "cell_type": "code",
      "metadata": {
        "id": "uo1RcVFSaT6R",
        "colab_type": "code",
        "colab": {
          "base_uri": "https://localhost:8080/",
          "height": 34
        },
        "outputId": "c2bb0d80-e560-4c3e-ad40-86c8102ad144"
      },
      "source": [
        "num_batches = len(data_loader)\n",
        "print(\"Number of batches: \",num_batches)"
      ],
      "execution_count": 11,
      "outputs": [
        {
          "output_type": "stream",
          "text": [
            "Number of batches:  600\n"
          ],
          "name": "stdout"
        }
      ]
    },
    {
      "cell_type": "markdown",
      "metadata": {
        "id": "upuWTpqEQMJG",
        "colab_type": "text"
      },
      "source": [
        "# Display an iamge"
      ]
    },
    {
      "cell_type": "code",
      "metadata": {
        "id": "qZR8ZCOm6TRY",
        "colab_type": "code",
        "colab": {
          "base_uri": "https://localhost:8080/",
          "height": 265
        },
        "outputId": "a26c3cb4-738b-4936-93a0-003e691aaad8"
      },
      "source": [
        "%matplotlib inline \n",
        "from matplotlib import pyplot as plt\n",
        "\n",
        "for x,_ in data_loader:\n",
        "    plt.imshow(x.numpy()[0][0], cmap='gray')\n",
        "    break"
      ],
      "execution_count": 12,
      "outputs": [
        {
          "output_type": "display_data",
          "data": {
            "image/png": "[encoded data removed]",
            "text/plain": [
              "<Figure size 432x288 with 1 Axes>"
            ]
          },
          "metadata": {
            "tags": [],
            "needs_background": "light"
          }
        }
      ]
    },
    {
      "cell_type": "markdown",
      "metadata": {
        "id": "q_QwUBQlQSAr",
        "colab_type": "text"
      },
      "source": [
        "# Define Generator and Discriminator"
      ]
    },
    {
      "cell_type": "code",
      "metadata": {
        "id": "gOvX1SSHa41A",
        "colab_type": "code",
        "colab": {
          "base_uri": "https://localhost:8080/",
          "height": 323
        },
        "outputId": "a6fcde07-7c23-4540-d507-2a840c08cad3"
      },
      "source": [
        "class GeneratorModel(nn.Module):\n",
        "    def __init__(self):\n",
        "        super(GeneratorModel, self).__init__()\n",
        "        input_dim = 100\n",
        "        output_dim = 784\n",
        "\n",
        "        self.hidden_layer1 = nn.Sequential(\n",
        "            nn.Linear(input_dim, 256),\n",
        "            nn.LeakyReLU(0.2)\n",
        "        )\n",
        "\n",
        "        self.hidden_layer2 = nn.Sequential(\n",
        "            nn.Linear(256, 512),\n",
        "            nn.LeakyReLU(0.2)\n",
        "        )\n",
        "\n",
        "        self.hidden_layer3 = nn.Sequential(\n",
        "            nn.Linear(512, 1024),\n",
        "            nn.LeakyReLU(0.2)\n",
        "        )\n",
        "\n",
        "        self.hidden_layer4 = nn.Sequential(\n",
        "            nn.Linear(1024, output_dim),\n",
        "            nn.Tanh()\n",
        "        )\n",
        "    \n",
        "    def forward(self, x):\n",
        "        output = self.hidden_layer1(x)\n",
        "        output = self.hidden_layer2(output)\n",
        "        output = self.hidden_layer3(output)\n",
        "        output = self.hidden_layer4(output)\n",
        "        return output.to(device)\n",
        "\n",
        "class DiscriminatorModel(nn.Module):\n",
        "    def __init__(self):\n",
        "        super(DiscriminatorModel, self).__init__()\n",
        "        input_dim = 784\n",
        "        output_dim = 1\n",
        "\n",
        "        self.hidden_layer1 = nn.Sequential(\n",
        "            nn.Linear(input_dim, 1024),\n",
        "            nn.LeakyReLU(0.2),\n",
        "            nn.Dropout(0.3)\n",
        "        )\n",
        "\n",
        "        self.hidden_layer2 = nn.Sequential(\n",
        "            nn.Linear(1024, 512),\n",
        "            nn.LeakyReLU(0.2),\n",
        "            nn.Dropout(0.3)\n",
        "        )\n",
        "\n",
        "        self.hidden_layer3 = nn.Sequential(\n",
        "            nn.Linear(512, 256),\n",
        "            nn.LeakyReLU(0.2),\n",
        "            nn.Dropout(0.3)\n",
        "        )\n",
        "\n",
        "        self.hidden_layer4 = nn.Sequential(\n",
        "            nn.Linear(256, output_dim),\n",
        "            nn.Sigmoid()\n",
        "        )\n",
        "\n",
        "    def forward(self, x):\n",
        "        output = self.hidden_layer1(x)\n",
        "        output = self.hidden_layer2(output)\n",
        "        output = self.hidden_layer3(output)\n",
        "        output = self.hidden_layer4(output)\n",
        "\n",
        "        return output.to(device)\n",
        "\n",
        "discriminator = DiscriminatorModel()\n",
        "generator = GeneratorModel()\n",
        "discriminator.to(device)\n",
        "generator.to(device)"
      ],
      "execution_count": 43,
      "outputs": [
        {
          "output_type": "execute_result",
          "data": {
            "text/plain": [
              "GeneratorModel(\n",
              "  (hidden_layer1): Sequential(\n",
              "    (0): Linear(in_features=100, out_features=256, bias=True)\n",
              "    (1): LeakyReLU(negative_slope=0.2)\n",
              "  )\n",
              "  (hidden_layer2): Sequential(\n",
              "    (0): Linear(in_features=256, out_features=512, bias=True)\n",
              "    (1): LeakyReLU(negative_slope=0.2)\n",
              "  )\n",
              "  (hidden_layer3): Sequential(\n",
              "    (0): Linear(in_features=512, out_features=1024, bias=True)\n",
              "    (1): LeakyReLU(negative_slope=0.2)\n",
              "  )\n",
              "  (hidden_layer4): Sequential(\n",
              "    (0): Linear(in_features=1024, out_features=784, bias=True)\n",
              "    (1): Tanh()\n",
              "  )\n",
              ")"
            ]
          },
          "metadata": {
            "tags": []
          },
          "execution_count": 43
        }
      ]
    },
    {
      "cell_type": "markdown",
      "metadata": {
        "id": "IMuVQHnZQhU9",
        "colab_type": "text"
      },
      "source": [
        "# Initilize Optimizers, loss function\n"
      ]
    },
    {
      "cell_type": "code",
      "metadata": {
        "id": "j1GQkiSFxzPe",
        "colab_type": "code",
        "colab": {}
      },
      "source": [
        "discriminator_optimizer = optim.Adam(discriminator.parameters(), lr=0.0002)\n",
        "generator_optimizer = optim.Adam(generator.parameters(), lr=0.0002)\n",
        "\n",
        "loss = nn.BCELoss()\n"
      ],
      "execution_count": 0,
      "outputs": []
    },
    {
      "cell_type": "markdown",
      "metadata": {
        "id": "OLvXAR7Px1ja",
        "colab_type": "text"
      },
      "source": [
        "# Training Loop"
      ]
    },
    {
      "cell_type": "code",
      "metadata": {
        "id": "8sp6taoHSioH",
        "colab_type": "code",
        "colab": {
          "base_uri": "https://localhost:8080/",
          "height": 1000
        },
        "outputId": "64bbb458-1427-446a-dd1a-0b5a89bc514c"
      },
      "source": [
        "n_epochs = training_parameters[\"n_epochs\"]\n",
        "batch_size = training_parameters[\"batch_size\"]\n",
        "\n",
        "for epoch_idx in range(n_epochs):\n",
        "    G_loss = []\n",
        "    D_loss = []\n",
        "    for batch_idx, data_input in enumerate(data_loader):\n",
        "        \n",
        "        \n",
        "        noise = torch.randn(batch_size,100).to(device)\n",
        "        generated_data = generator(noise) # batch_size X 784\n",
        "        \n",
        "        # Discriminator\n",
        "        true_data = data_input[0].view(batch_size, 784).to(device) # batch_size X 784\n",
        "        digit_labels = data_input[1] # batch_size\n",
        "        true_labels = torch.ones(batch_size).to(device)\n",
        "        \n",
        "        discriminator_optimizer.zero_grad()\n",
        "\n",
        "        discriminator_output_for_true_data = discriminator(true_data).view(batch_size)\n",
        "        true_discriminator_loss = loss(discriminator_output_for_true_data, true_labels)\n",
        "\n",
        "        discriminator_output_for_generated_data = discriminator(generated_data.detach()).view(batch_size)\n",
        "        generator_discriminator_loss = loss(\n",
        "            discriminator_output_for_generated_data, torch.zeros(batch_size).to(device)\n",
        "        )\n",
        "        discriminator_loss = (\n",
        "            true_discriminator_loss + generator_discriminator_loss\n",
        "        ) / 2\n",
        "        \n",
        "        discriminator_loss.backward()\n",
        "        discriminator_optimizer.step()\n",
        "\n",
        "        D_loss.append(discriminator_loss.data.item())\n",
        "        \n",
        "        \n",
        "        # Generator\n",
        "\n",
        "        generator_optimizer.zero_grad()\n",
        "        # It's a choice to generate the data again\n",
        "        generated_data = generator(noise) # batch_size X 784\n",
        "        discriminator_output_on_generated_data = discriminator(generated_data).view(batch_size)\n",
        "        generator_loss = loss(discriminator_output_on_generated_data, true_labels)\n",
        "        generator_loss.backward()\n",
        "        generator_optimizer.step()\n",
        "        \n",
        "        G_loss.append(generator_loss.data.item())\n",
        "        if ((batch_idx + 1)% 500 == 0 and (epoch_idx + 1)%10 == 0):\n",
        "            print(\"Training Steps Completed: \", batch_idx)\n",
        "            \n",
        "            with torch.no_grad():\n",
        "                noise = torch.randn(batch_size,100).to(device)\n",
        "                generated_data = generator(noise).cpu().view(batch_size, 28, 28)\n",
        "                for x in generated_data:\n",
        "                    plt.imshow(x.detach().numpy(), interpolation='nearest',cmap='gray')\n",
        "                    plt.show()\n",
        "\n",
        "                    break\n",
        "\n",
        "\n",
        "    print('[%d/%d]: loss_d: %.3f, loss_g: %.3f' % (\n",
        "            (epoch_idx), n_epochs, torch.mean(torch.FloatTensor(D_loss)), torch.mean(torch.FloatTensor(G_loss))))\n",
        "    "
      ],
      "execution_count": 44,
      "outputs": [
        {
          "output_type": "stream",
          "text": [
            "[0/100]: loss_d: 0.381, loss_g: 4.099\n",
            "[1/100]: loss_d: 0.473, loss_g: 2.582\n",
            "[2/100]: loss_d: 0.523, loss_g: 1.514\n",
            "[3/100]: loss_d: 0.494, loss_g: 1.706\n",
            "[4/100]: loss_d: 0.396, loss_g: 2.373\n",
            "[5/100]: loss_d: 0.265, loss_g: 3.061\n",
            "[6/100]: loss_d: 0.285, loss_g: 2.603\n",
            "[7/100]: loss_d: 0.283, loss_g: 2.580\n",
            "[8/100]: loss_d: 0.311, loss_g: 2.397\n",
            "Training Steps Completed:  499\n"
          ],
          "name": "stdout"
        },
        {
          "output_type": "display_data",
          "data": {
            "image/png": "[encoded data removed]",
            "text/plain": [
              "<Figure size 432x288 with 1 Axes>"
            ]
          },
          "metadata": {
            "tags": [],
            "needs_background": "light"
          }
        },
        {
          "output_type": "stream",
          "text": [
            "[9/100]: loss_d: 0.258, loss_g: 2.742\n",
            "[10/100]: loss_d: 0.306, loss_g: 2.627\n",
            "[11/100]: loss_d: 0.363, loss_g: 2.137\n",
            "[12/100]: loss_d: 0.362, loss_g: 2.063\n",
            "[13/100]: loss_d: 0.380, loss_g: 1.992\n",
            "[14/100]: loss_d: 0.380, loss_g: 1.961\n",
            "[15/100]: loss_d: 0.429, loss_g: 1.766\n",
            "[16/100]: loss_d: 0.418, loss_g: 1.781\n",
            "[17/100]: loss_d: 0.421, loss_g: 1.735\n",
            "[18/100]: loss_d: 0.436, loss_g: 1.738\n",
            "Training Steps Completed:  499\n"
          ],
          "name": "stdout"
        },
        {
          "output_type": "display_data",
          "data": {
            "image/png": "[encoded data removed]",
            "text/plain": [
              "<Figure size 432x288 with 1 Axes>"
            ]
          },
          "metadata": {
            "tags": [],
            "needs_background": "light"
          }
        },
        {
          "output_type": "stream",
          "text": [
            "[19/100]: loss_d: 0.445, loss_g: 1.676\n",
            "[20/100]: loss_d: 0.450, loss_g: 1.605\n",
            "[21/100]: loss_d: 0.452, loss_g: 1.600\n",
            "[22/100]: loss_d: 0.447, loss_g: 1.620\n",
            "[23/100]: loss_d: 0.477, loss_g: 1.505\n",
            "[24/100]: loss_d: 0.487, loss_g: 1.466\n",
            "[25/100]: loss_d: 0.489, loss_g: 1.481\n",
            "[26/100]: loss_d: 0.496, loss_g: 1.436\n",
            "[27/100]: loss_d: 0.478, loss_g: 1.516\n",
            "[28/100]: loss_d: 0.486, loss_g: 1.485\n",
            "Training Steps Completed:  499\n"
          ],
          "name": "stdout"
        },
        {
          "output_type": "display_data",
          "data": {
            "image/png": "[encoded data removed]",
            "text/plain": [
              "<Figure size 432x288 with 1 Axes>"
            ]
          },
          "metadata": {
            "tags": [],
            "needs_background": "light"
          }
        },
        {
          "output_type": "stream",
          "text": [
            "[29/100]: loss_d: 0.510, loss_g: 1.372\n",
            "[30/100]: loss_d: 0.507, loss_g: 1.383\n",
            "[31/100]: loss_d: 0.502, loss_g: 1.393\n",
            "[32/100]: loss_d: 0.518, loss_g: 1.328\n",
            "[33/100]: loss_d: 0.518, loss_g: 1.321\n",
            "[34/100]: loss_d: 0.526, loss_g: 1.302\n",
            "[35/100]: loss_d: 0.529, loss_g: 1.290\n",
            "[36/100]: loss_d: 0.538, loss_g: 1.250\n",
            "[37/100]: loss_d: 0.540, loss_g: 1.237\n",
            "[38/100]: loss_d: 0.550, loss_g: 1.208\n",
            "Training Steps Completed:  499\n"
          ],
          "name": "stdout"
        },
        {
          "output_type": "display_data",
          "data": {
            "image/png": "[encoded data removed]",
            "text/plain": [
              "<Figure size 432x288 with 1 Axes>"
            ]
          },
          "metadata": {
            "tags": [],
            "needs_background": "light"
          }
        },
        {
          "output_type": "stream",
          "text": [
            "[39/100]: loss_d: 0.553, loss_g: 1.185\n",
            "[40/100]: loss_d: 0.556, loss_g: 1.184\n",
            "[41/100]: loss_d: 0.557, loss_g: 1.177\n",
            "[42/100]: loss_d: 0.556, loss_g: 1.175\n",
            "[43/100]: loss_d: 0.559, loss_g: 1.187\n",
            "[44/100]: loss_d: 0.562, loss_g: 1.156\n",
            "[45/100]: loss_d: 0.565, loss_g: 1.151\n",
            "[46/100]: loss_d: 0.569, loss_g: 1.138\n",
            "[47/100]: loss_d: 0.565, loss_g: 1.155\n",
            "[48/100]: loss_d: 0.575, loss_g: 1.115\n",
            "Training Steps Completed:  499\n"
          ],
          "name": "stdout"
        },
        {
          "output_type": "display_data",
          "data": {
            "image/png": "[encoded data removed]",
            "text/plain": [
              "<Figure size 432x288 with 1 Axes>"
            ]
          },
          "metadata": {
            "tags": [],
            "needs_background": "light"
          }
        },
        {
          "output_type": "stream",
          "text": [
            "[49/100]: loss_d: 0.578, loss_g: 1.100\n",
            "[50/100]: loss_d: 0.577, loss_g: 1.108\n",
            "[51/100]: loss_d: 0.579, loss_g: 1.117\n",
            "[52/100]: loss_d: 0.583, loss_g: 1.066\n",
            "[53/100]: loss_d: 0.588, loss_g: 1.075\n",
            "[54/100]: loss_d: 0.592, loss_g: 1.054\n",
            "[55/100]: loss_d: 0.595, loss_g: 1.044\n",
            "[56/100]: loss_d: 0.594, loss_g: 1.040\n",
            "[57/100]: loss_d: 0.596, loss_g: 1.037\n",
            "[58/100]: loss_d: 0.596, loss_g: 1.046\n",
            "Training Steps Completed:  499\n"
          ],
          "name": "stdout"
        },
        {
          "output_type": "display_data",
          "data": {
            "image/png": "[encoded data removed]",
            "text/plain": [
              "<Figure size 432x288 with 1 Axes>"
            ]
          },
          "metadata": {
            "tags": [],
            "needs_background": "light"
          }
        },
        {
          "output_type": "stream",
          "text": [
            "[59/100]: loss_d: 0.599, loss_g: 1.031\n",
            "[60/100]: loss_d: 0.598, loss_g: 1.032\n",
            "[61/100]: loss_d: 0.604, loss_g: 1.008\n",
            "[62/100]: loss_d: 0.601, loss_g: 1.010\n",
            "[63/100]: loss_d: 0.605, loss_g: 1.016\n",
            "[64/100]: loss_d: 0.605, loss_g: 1.007\n",
            "[65/100]: loss_d: 0.612, loss_g: 0.994\n",
            "[66/100]: loss_d: 0.608, loss_g: 0.990\n",
            "[67/100]: loss_d: 0.606, loss_g: 0.994\n",
            "[68/100]: loss_d: 0.601, loss_g: 1.023\n",
            "Training Steps Completed:  499\n"
          ],
          "name": "stdout"
        },
        {
          "output_type": "display_data",
          "data": {
            "image/png": "[encoded data removed]",
            "text/plain": [
              "<Figure size 432x288 with 1 Axes>"
            ]
          },
          "metadata": {
            "tags": [],
            "needs_background": "light"
          }
        },
        {
          "output_type": "stream",
          "text": [
            "[69/100]: loss_d: 0.606, loss_g: 1.004\n",
            "[70/100]: loss_d: 0.614, loss_g: 0.993\n",
            "[71/100]: loss_d: 0.611, loss_g: 0.993\n",
            "[72/100]: loss_d: 0.615, loss_g: 0.974\n",
            "[73/100]: loss_d: 0.614, loss_g: 0.979\n",
            "[74/100]: loss_d: 0.610, loss_g: 0.990\n",
            "[75/100]: loss_d: 0.611, loss_g: 0.988\n",
            "[76/100]: loss_d: 0.613, loss_g: 0.980\n",
            "[77/100]: loss_d: 0.611, loss_g: 0.984\n",
            "[78/100]: loss_d: 0.621, loss_g: 0.954\n",
            "Training Steps Completed:  499\n"
          ],
          "name": "stdout"
        },
        {
          "output_type": "display_data",
          "data": {
            "image/png": "[encoded data removed]",
            "text/plain": [
              "<Figure size 432x288 with 1 Axes>"
            ]
          },
          "metadata": {
            "tags": [],
            "needs_background": "light"
          }
        },
        {
          "output_type": "stream",
          "text": [
            "[79/100]: loss_d: 0.615, loss_g: 0.974\n",
            "[80/100]: loss_d: 0.617, loss_g: 0.961\n",
            "[81/100]: loss_d: 0.622, loss_g: 0.946\n",
            "[82/100]: loss_d: 0.624, loss_g: 0.953\n",
            "[83/100]: loss_d: 0.624, loss_g: 0.947\n",
            "[84/100]: loss_d: 0.624, loss_g: 0.939\n",
            "[85/100]: loss_d: 0.623, loss_g: 0.952\n",
            "[86/100]: loss_d: 0.621, loss_g: 0.947\n",
            "[87/100]: loss_d: 0.625, loss_g: 0.938\n",
            "[88/100]: loss_d: 0.622, loss_g: 0.948\n",
            "Training Steps Completed:  499\n"
          ],
          "name": "stdout"
        },
        {
          "output_type": "display_data",
          "data": {
            "image/png": "[encoded data removed]",
            "text/plain": [
              "<Figure size 432x288 with 1 Axes>"
            ]
          },
          "metadata": {
            "tags": [],
            "needs_background": "light"
          }
        },
        {
          "output_type": "stream",
          "text": [
            "[89/100]: loss_d: 0.625, loss_g: 0.953\n",
            "[90/100]: loss_d: 0.625, loss_g: 0.948\n",
            "[91/100]: loss_d: 0.623, loss_g: 0.948\n",
            "[92/100]: loss_d: 0.626, loss_g: 0.941\n",
            "[93/100]: loss_d: 0.625, loss_g: 0.949\n",
            "[94/100]: loss_d: 0.626, loss_g: 0.935\n",
            "[95/100]: loss_d: 0.628, loss_g: 0.937\n",
            "[96/100]: loss_d: 0.628, loss_g: 0.935\n",
            "[97/100]: loss_d: 0.628, loss_g: 0.920\n",
            "[98/100]: loss_d: 0.631, loss_g: 0.925\n",
            "Training Steps Completed:  499\n"
          ],
          "name": "stdout"
        },
        {
          "output_type": "display_data",
          "data": {
            "image/png": "[encoded data removed]",
            "text/plain": [
              "<Figure size 432x288 with 1 Axes>"
            ]
          },
          "metadata": {
            "tags": [],
            "needs_background": "light"
          }
        },
        {
          "output_type": "stream",
          "text": [
            "[99/100]: loss_d: 0.633, loss_g: 0.912\n"
          ],
          "name": "stdout"
        }
      ]
    },
    {
      "cell_type": "markdown",
      "metadata": {
        "id": "Hn8isMbxySyl",
        "colab_type": "text"
      },
      "source": [
        "# The below version is not working - need to figure out the issue"
      ]
    },
    {
      "cell_type": "code",
      "metadata": {
        "id": "nVoN1Xbuegxx",
        "colab_type": "code",
        "colab": {}
      },
      "source": [
        "discriminator_optimizer = optim.Adam(discriminator.parameters(), lr=0.0002)\n",
        "generator_optimizer = optim.Adam(generator.parameters(), lr=0.0002)\n",
        "\n",
        "loss = nn.BCELoss()\n",
        "n_epochs = training_parameters[\"n_epochs\"]\n",
        "batch_size = training_parameters[\"batch_size\"]\n",
        "\n",
        "for epoch_idx in range(n_epochs):\n",
        "    G_loss = []\n",
        "    D_loss = []\n",
        "    \n",
        "    for batch_idx, data_input in enumerate(data_loader):\n",
        "\n",
        "        # Generator\n",
        "        generator_optimizer.zero_grad()\n",
        "\n",
        "        noise = torch.randn(batch_size, 100).to(device)\n",
        "        generated_data = generator(noise) # batch_size X 784\n",
        "\n",
        "        true_data = data_input[0].view(batch_size, 784).to(device) # batch_size X 784\n",
        "        digit_labels = data_input[1] # batch_size\n",
        "        true_labels = torch.ones(batch_size).to(device)\n",
        "\n",
        "\n",
        "\n",
        "        discriminator_output_on_generated_data = discriminator(generated_data).view(batch_size)\n",
        "        generator_loss = loss(discriminator_output_on_generated_data, true_labels)\n",
        "        generator_loss.backward()\n",
        "        generator_optimizer.step()\n",
        "        \n",
        "        G_loss.append(generator_loss.data.item())\n",
        "        \n",
        "        # Discriminator\n",
        "        \n",
        "        discriminator_optimizer.zero_grad()\n",
        "\n",
        "        discriminator_output_for_true_data = discriminator(true_data).view(batch_size)\n",
        "        true_discriminator_loss = loss(discriminator_output_for_true_data, true_labels)\n",
        "\n",
        "        discriminator_output_for_generated_data = discriminator(generated_data.detach()).view(batch_size)\n",
        "        generator_discriminator_loss = loss(\n",
        "            discriminator_output_for_generated_data, torch.zeros(batch_size).to(device)\n",
        "        )\n",
        "        discriminator_loss = (\n",
        "            true_discriminator_loss + generator_discriminator_loss\n",
        "        ) / 2\n",
        "\n",
        "        discriminator_loss.backward()\n",
        "        discriminator_optimizer.step()\n",
        "\n",
        "        D_loss.append(discriminator_loss.data.item())\n",
        "        \n",
        "        if ((batch_idx + 1)% 500 == 0 and (epoch_idx + 1)%10 == 0):\n",
        "            print(\"Training Steps Completed: \", batch_idx)\n",
        "            \n",
        "            with torch.no_grad():\n",
        "                noise = torch.randn(batch_size,100).to(device)\n",
        "                generated_data = generator(noise).cpu().view(batch_size, 28, 28)\n",
        "                for x in generated_data:\n",
        "                    plt.imshow(x.detach().numpy(), interpolation='nearest',cmap='gray')\n",
        "                    plt.show()\n",
        "\n",
        "                    break\n",
        "\n",
        "\n",
        "            \n",
        "    print('[%d/%d]: loss_d: %.3f, loss_g: %.3f' % (\n",
        "            (epoch_idx), n_epochs, torch.mean(torch.FloatTensor(D_loss)), torch.mean(torch.FloatTensor(G_loss))))"
      ],
      "execution_count": 0,
      "outputs": []
    }
  ]
}