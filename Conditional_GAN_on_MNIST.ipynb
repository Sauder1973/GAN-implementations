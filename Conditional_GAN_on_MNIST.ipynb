{
  "nbformat": 4,
  "nbformat_minor": 0,
  "metadata": {
    "colab": {
      "name": "Conditional GAN_on_MNIST.ipynb",
      "provenance": [],
      "collapsed_sections": []
    },
    "kernelspec": {
      "name": "python3",
      "display_name": "Python 3"
    },
    "accelerator": "GPU",
    "widgets": {
      "application/vnd.jupyter.widget-state+json": {
        "e5d32394c00f430d90995f5ca84413d0": {
          "model_module": "@jupyter-widgets/controls",
          "model_name": "HBoxModel",
          "state": {
            "_view_name": "HBoxView",
            "_dom_classes": [],
            "_model_name": "HBoxModel",
            "_view_module": "@jupyter-widgets/controls",
            "_model_module_version": "1.5.0",
            "_view_count": null,
            "_view_module_version": "1.5.0",
            "box_style": "",
            "layout": "IPY_MODEL_93c72c1856da4744a6532c910abe92c6",
            "_model_module": "@jupyter-widgets/controls",
            "children": [
              "IPY_MODEL_8d164534920e43bb8cd15ff4f3e1367d",
              "IPY_MODEL_d136a3bf82334c16bf3419cd0057c797"
            ]
          }
        },
        "93c72c1856da4744a6532c910abe92c6": {
          "model_module": "@jupyter-widgets/base",
          "model_name": "LayoutModel",
          "state": {
            "_view_name": "LayoutView",
            "grid_template_rows": null,
            "right": null,
            "justify_content": null,
            "_view_module": "@jupyter-widgets/base",
            "overflow": null,
            "_model_module_version": "1.2.0",
            "_view_count": null,
            "flex_flow": null,
            "width": null,
            "min_width": null,
            "border": null,
            "align_items": null,
            "bottom": null,
            "_model_module": "@jupyter-widgets/base",
            "top": null,
            "grid_column": null,
            "overflow_y": null,
            "overflow_x": null,
            "grid_auto_flow": null,
            "grid_area": null,
            "grid_template_columns": null,
            "flex": null,
            "_model_name": "LayoutModel",
            "justify_items": null,
            "grid_row": null,
            "max_height": null,
            "align_content": null,
            "visibility": null,
            "align_self": null,
            "height": null,
            "min_height": null,
            "padding": null,
            "grid_auto_rows": null,
            "grid_gap": null,
            "max_width": null,
            "order": null,
            "_view_module_version": "1.2.0",
            "grid_template_areas": null,
            "object_position": null,
            "object_fit": null,
            "grid_auto_columns": null,
            "margin": null,
            "display": null,
            "left": null
          }
        },
        "8d164534920e43bb8cd15ff4f3e1367d": {
          "model_module": "@jupyter-widgets/controls",
          "model_name": "FloatProgressModel",
          "state": {
            "_view_name": "ProgressView",
            "style": "IPY_MODEL_47dfcbcae9424b9ba0be98c49cb781a8",
            "_dom_classes": [],
            "description": "",
            "_model_name": "FloatProgressModel",
            "bar_style": "info",
            "max": 1,
            "_view_module": "@jupyter-widgets/controls",
            "_model_module_version": "1.5.0",
            "value": 1,
            "_view_count": null,
            "_view_module_version": "1.5.0",
            "orientation": "horizontal",
            "min": 0,
            "description_tooltip": null,
            "_model_module": "@jupyter-widgets/controls",
            "layout": "IPY_MODEL_d2bc05bc882a4236bb6d67521dbf3a17"
          }
        },
        "d136a3bf82334c16bf3419cd0057c797": {
          "model_module": "@jupyter-widgets/controls",
          "model_name": "HTMLModel",
          "state": {
            "_view_name": "HTMLView",
            "style": "IPY_MODEL_d2cb83d9e2e743bf830bf6509b21fb4a",
            "_dom_classes": [],
            "description": "",
            "_model_name": "HTMLModel",
            "placeholder": "​",
            "_view_module": "@jupyter-widgets/controls",
            "_model_module_version": "1.5.0",
            "value": " 9920512/? [00:20&lt;00:00, 800596.18it/s]",
            "_view_count": null,
            "_view_module_version": "1.5.0",
            "description_tooltip": null,
            "_model_module": "@jupyter-widgets/controls",
            "layout": "IPY_MODEL_1efc1cfead8c4133962853f4e4212a2d"
          }
        },
        "47dfcbcae9424b9ba0be98c49cb781a8": {
          "model_module": "@jupyter-widgets/controls",
          "model_name": "ProgressStyleModel",
          "state": {
            "_view_name": "StyleView",
            "_model_name": "ProgressStyleModel",
            "description_width": "initial",
            "_view_module": "@jupyter-widgets/base",
            "_model_module_version": "1.5.0",
            "_view_count": null,
            "_view_module_version": "1.2.0",
            "bar_color": null,
            "_model_module": "@jupyter-widgets/controls"
          }
        },
        "d2bc05bc882a4236bb6d67521dbf3a17": {
          "model_module": "@jupyter-widgets/base",
          "model_name": "LayoutModel",
          "state": {
            "_view_name": "LayoutView",
            "grid_template_rows": null,
            "right": null,
            "justify_content": null,
            "_view_module": "@jupyter-widgets/base",
            "overflow": null,
            "_model_module_version": "1.2.0",
            "_view_count": null,
            "flex_flow": null,
            "width": null,
            "min_width": null,
            "border": null,
            "align_items": null,
            "bottom": null,
            "_model_module": "@jupyter-widgets/base",
            "top": null,
            "grid_column": null,
            "overflow_y": null,
            "overflow_x": null,
            "grid_auto_flow": null,
            "grid_area": null,
            "grid_template_columns": null,
            "flex": null,
            "_model_name": "LayoutModel",
            "justify_items": null,
            "grid_row": null,
            "max_height": null,
            "align_content": null,
            "visibility": null,
            "align_self": null,
            "height": null,
            "min_height": null,
            "padding": null,
            "grid_auto_rows": null,
            "grid_gap": null,
            "max_width": null,
            "order": null,
            "_view_module_version": "1.2.0",
            "grid_template_areas": null,
            "object_position": null,
            "object_fit": null,
            "grid_auto_columns": null,
            "margin": null,
            "display": null,
            "left": null
          }
        },
        "d2cb83d9e2e743bf830bf6509b21fb4a": {
          "model_module": "@jupyter-widgets/controls",
          "model_name": "DescriptionStyleModel",
          "state": {
            "_view_name": "StyleView",
            "_model_name": "DescriptionStyleModel",
            "description_width": "",
            "_view_module": "@jupyter-widgets/base",
            "_model_module_version": "1.5.0",
            "_view_count": null,
            "_view_module_version": "1.2.0",
            "_model_module": "@jupyter-widgets/controls"
          }
        },
        "1efc1cfead8c4133962853f4e4212a2d": {
          "model_module": "@jupyter-widgets/base",
          "model_name": "LayoutModel",
          "state": {
            "_view_name": "LayoutView",
            "grid_template_rows": null,
            "right": null,
            "justify_content": null,
            "_view_module": "@jupyter-widgets/base",
            "overflow": null,
            "_model_module_version": "1.2.0",
            "_view_count": null,
            "flex_flow": null,
            "width": null,
            "min_width": null,
            "border": null,
            "align_items": null,
            "bottom": null,
            "_model_module": "@jupyter-widgets/base",
            "top": null,
            "grid_column": null,
            "overflow_y": null,
            "overflow_x": null,
            "grid_auto_flow": null,
            "grid_area": null,
            "grid_template_columns": null,
            "flex": null,
            "_model_name": "LayoutModel",
            "justify_items": null,
            "grid_row": null,
            "max_height": null,
            "align_content": null,
            "visibility": null,
            "align_self": null,
            "height": null,
            "min_height": null,
            "padding": null,
            "grid_auto_rows": null,
            "grid_gap": null,
            "max_width": null,
            "order": null,
            "_view_module_version": "1.2.0",
            "grid_template_areas": null,
            "object_position": null,
            "object_fit": null,
            "grid_auto_columns": null,
            "margin": null,
            "display": null,
            "left": null
          }
        },
        "f73bc3347d05476c947cf0b2015b75f7": {
          "model_module": "@jupyter-widgets/controls",
          "model_name": "HBoxModel",
          "state": {
            "_view_name": "HBoxView",
            "_dom_classes": [],
            "_model_name": "HBoxModel",
            "_view_module": "@jupyter-widgets/controls",
            "_model_module_version": "1.5.0",
            "_view_count": null,
            "_view_module_version": "1.5.0",
            "box_style": "",
            "layout": "IPY_MODEL_2fb26deda19a44a5a71a030549dfc363",
            "_model_module": "@jupyter-widgets/controls",
            "children": [
              "IPY_MODEL_382132897b0e4b92a5609a7e16d1efd8",
              "IPY_MODEL_f13dad36879a4df3ace4868530399102"
            ]
          }
        },
        "2fb26deda19a44a5a71a030549dfc363": {
          "model_module": "@jupyter-widgets/base",
          "model_name": "LayoutModel",
          "state": {
            "_view_name": "LayoutView",
            "grid_template_rows": null,
            "right": null,
            "justify_content": null,
            "_view_module": "@jupyter-widgets/base",
            "overflow": null,
            "_model_module_version": "1.2.0",
            "_view_count": null,
            "flex_flow": null,
            "width": null,
            "min_width": null,
            "border": null,
            "align_items": null,
            "bottom": null,
            "_model_module": "@jupyter-widgets/base",
            "top": null,
            "grid_column": null,
            "overflow_y": null,
            "overflow_x": null,
            "grid_auto_flow": null,
            "grid_area": null,
            "grid_template_columns": null,
            "flex": null,
            "_model_name": "LayoutModel",
            "justify_items": null,
            "grid_row": null,
            "max_height": null,
            "align_content": null,
            "visibility": null,
            "align_self": null,
            "height": null,
            "min_height": null,
            "padding": null,
            "grid_auto_rows": null,
            "grid_gap": null,
            "max_width": null,
            "order": null,
            "_view_module_version": "1.2.0",
            "grid_template_areas": null,
            "object_position": null,
            "object_fit": null,
            "grid_auto_columns": null,
            "margin": null,
            "display": null,
            "left": null
          }
        },
        "382132897b0e4b92a5609a7e16d1efd8": {
          "model_module": "@jupyter-widgets/controls",
          "model_name": "FloatProgressModel",
          "state": {
            "_view_name": "ProgressView",
            "style": "IPY_MODEL_3628f5e401d6461bb6323cf8a0b9dc8b",
            "_dom_classes": [],
            "description": "",
            "_model_name": "FloatProgressModel",
            "bar_style": "success",
            "max": 1,
            "_view_module": "@jupyter-widgets/controls",
            "_model_module_version": "1.5.0",
            "value": 1,
            "_view_count": null,
            "_view_module_version": "1.5.0",
            "orientation": "horizontal",
            "min": 0,
            "description_tooltip": null,
            "_model_module": "@jupyter-widgets/controls",
            "layout": "IPY_MODEL_0ddc3b54749b402b8f6c79000f3a87e2"
          }
        },
        "f13dad36879a4df3ace4868530399102": {
          "model_module": "@jupyter-widgets/controls",
          "model_name": "HTMLModel",
          "state": {
            "_view_name": "HTMLView",
            "style": "IPY_MODEL_5f9906d8511340649e360c2833377db4",
            "_dom_classes": [],
            "description": "",
            "_model_name": "HTMLModel",
            "placeholder": "​",
            "_view_module": "@jupyter-widgets/controls",
            "_model_module_version": "1.5.0",
            "value": " 32768/? [00:00&lt;00:00, 100169.71it/s]",
            "_view_count": null,
            "_view_module_version": "1.5.0",
            "description_tooltip": null,
            "_model_module": "@jupyter-widgets/controls",
            "layout": "IPY_MODEL_e3c0eb7742944499b28e04f15ea793aa"
          }
        },
        "3628f5e401d6461bb6323cf8a0b9dc8b": {
          "model_module": "@jupyter-widgets/controls",
          "model_name": "ProgressStyleModel",
          "state": {
            "_view_name": "StyleView",
            "_model_name": "ProgressStyleModel",
            "description_width": "initial",
            "_view_module": "@jupyter-widgets/base",
            "_model_module_version": "1.5.0",
            "_view_count": null,
            "_view_module_version": "1.2.0",
            "bar_color": null,
            "_model_module": "@jupyter-widgets/controls"
          }
        },
        "0ddc3b54749b402b8f6c79000f3a87e2": {
          "model_module": "@jupyter-widgets/base",
          "model_name": "LayoutModel",
          "state": {
            "_view_name": "LayoutView",
            "grid_template_rows": null,
            "right": null,
            "justify_content": null,
            "_view_module": "@jupyter-widgets/base",
            "overflow": null,
            "_model_module_version": "1.2.0",
            "_view_count": null,
            "flex_flow": null,
            "width": null,
            "min_width": null,
            "border": null,
            "align_items": null,
            "bottom": null,
            "_model_module": "@jupyter-widgets/base",
            "top": null,
            "grid_column": null,
            "overflow_y": null,
            "overflow_x": null,
            "grid_auto_flow": null,
            "grid_area": null,
            "grid_template_columns": null,
            "flex": null,
            "_model_name": "LayoutModel",
            "justify_items": null,
            "grid_row": null,
            "max_height": null,
            "align_content": null,
            "visibility": null,
            "align_self": null,
            "height": null,
            "min_height": null,
            "padding": null,
            "grid_auto_rows": null,
            "grid_gap": null,
            "max_width": null,
            "order": null,
            "_view_module_version": "1.2.0",
            "grid_template_areas": null,
            "object_position": null,
            "object_fit": null,
            "grid_auto_columns": null,
            "margin": null,
            "display": null,
            "left": null
          }
        },
        "5f9906d8511340649e360c2833377db4": {
          "model_module": "@jupyter-widgets/controls",
          "model_name": "DescriptionStyleModel",
          "state": {
            "_view_name": "StyleView",
            "_model_name": "DescriptionStyleModel",
            "description_width": "",
            "_view_module": "@jupyter-widgets/base",
            "_model_module_version": "1.5.0",
            "_view_count": null,
            "_view_module_version": "1.2.0",
            "_model_module": "@jupyter-widgets/controls"
          }
        },
        "e3c0eb7742944499b28e04f15ea793aa": {
          "model_module": "@jupyter-widgets/base",
          "model_name": "LayoutModel",
          "state": {
            "_view_name": "LayoutView",
            "grid_template_rows": null,
            "right": null,
            "justify_content": null,
            "_view_module": "@jupyter-widgets/base",
            "overflow": null,
            "_model_module_version": "1.2.0",
            "_view_count": null,
            "flex_flow": null,
            "width": null,
            "min_width": null,
            "border": null,
            "align_items": null,
            "bottom": null,
            "_model_module": "@jupyter-widgets/base",
            "top": null,
            "grid_column": null,
            "overflow_y": null,
            "overflow_x": null,
            "grid_auto_flow": null,
            "grid_area": null,
            "grid_template_columns": null,
            "flex": null,
            "_model_name": "LayoutModel",
            "justify_items": null,
            "grid_row": null,
            "max_height": null,
            "align_content": null,
            "visibility": null,
            "align_self": null,
            "height": null,
            "min_height": null,
            "padding": null,
            "grid_auto_rows": null,
            "grid_gap": null,
            "max_width": null,
            "order": null,
            "_view_module_version": "1.2.0",
            "grid_template_areas": null,
            "object_position": null,
            "object_fit": null,
            "grid_auto_columns": null,
            "margin": null,
            "display": null,
            "left": null
          }
        },
        "08eb1e5cb93445a8bdc4e6a86d6a50ff": {
          "model_module": "@jupyter-widgets/controls",
          "model_name": "HBoxModel",
          "state": {
            "_view_name": "HBoxView",
            "_dom_classes": [],
            "_model_name": "HBoxModel",
            "_view_module": "@jupyter-widgets/controls",
            "_model_module_version": "1.5.0",
            "_view_count": null,
            "_view_module_version": "1.5.0",
            "box_style": "",
            "layout": "IPY_MODEL_f93f970fa99845dcbb49ae210b41c6ca",
            "_model_module": "@jupyter-widgets/controls",
            "children": [
              "IPY_MODEL_b0dc0f7cc23a431b943f8e1d2985a12d",
              "IPY_MODEL_9da5c77492c7418497b173ff5b153bae"
            ]
          }
        },
        "f93f970fa99845dcbb49ae210b41c6ca": {
          "model_module": "@jupyter-widgets/base",
          "model_name": "LayoutModel",
          "state": {
            "_view_name": "LayoutView",
            "grid_template_rows": null,
            "right": null,
            "justify_content": null,
            "_view_module": "@jupyter-widgets/base",
            "overflow": null,
            "_model_module_version": "1.2.0",
            "_view_count": null,
            "flex_flow": null,
            "width": null,
            "min_width": null,
            "border": null,
            "align_items": null,
            "bottom": null,
            "_model_module": "@jupyter-widgets/base",
            "top": null,
            "grid_column": null,
            "overflow_y": null,
            "overflow_x": null,
            "grid_auto_flow": null,
            "grid_area": null,
            "grid_template_columns": null,
            "flex": null,
            "_model_name": "LayoutModel",
            "justify_items": null,
            "grid_row": null,
            "max_height": null,
            "align_content": null,
            "visibility": null,
            "align_self": null,
            "height": null,
            "min_height": null,
            "padding": null,
            "grid_auto_rows": null,
            "grid_gap": null,
            "max_width": null,
            "order": null,
            "_view_module_version": "1.2.0",
            "grid_template_areas": null,
            "object_position": null,
            "object_fit": null,
            "grid_auto_columns": null,
            "margin": null,
            "display": null,
            "left": null
          }
        },
        "b0dc0f7cc23a431b943f8e1d2985a12d": {
          "model_module": "@jupyter-widgets/controls",
          "model_name": "FloatProgressModel",
          "state": {
            "_view_name": "ProgressView",
            "style": "IPY_MODEL_396be20107894ffc92fe8fbfb504b30d",
            "_dom_classes": [],
            "description": "",
            "_model_name": "FloatProgressModel",
            "bar_style": "info",
            "max": 1,
            "_view_module": "@jupyter-widgets/controls",
            "_model_module_version": "1.5.0",
            "value": 1,
            "_view_count": null,
            "_view_module_version": "1.5.0",
            "orientation": "horizontal",
            "min": 0,
            "description_tooltip": null,
            "_model_module": "@jupyter-widgets/controls",
            "layout": "IPY_MODEL_8c2cb15155824867b96c2d057e08a2ed"
          }
        },
        "9da5c77492c7418497b173ff5b153bae": {
          "model_module": "@jupyter-widgets/controls",
          "model_name": "HTMLModel",
          "state": {
            "_view_name": "HTMLView",
            "style": "IPY_MODEL_e0dc71b82773464b9a4e2ff2c02b5893",
            "_dom_classes": [],
            "description": "",
            "_model_name": "HTMLModel",
            "placeholder": "​",
            "_view_module": "@jupyter-widgets/controls",
            "_model_module_version": "1.5.0",
            "value": " 1654784/? [00:18&lt;00:00, 265474.60it/s]",
            "_view_count": null,
            "_view_module_version": "1.5.0",
            "description_tooltip": null,
            "_model_module": "@jupyter-widgets/controls",
            "layout": "IPY_MODEL_9e7b34cc5c74439e99586ec788d17dcc"
          }
        },
        "396be20107894ffc92fe8fbfb504b30d": {
          "model_module": "@jupyter-widgets/controls",
          "model_name": "ProgressStyleModel",
          "state": {
            "_view_name": "StyleView",
            "_model_name": "ProgressStyleModel",
            "description_width": "initial",
            "_view_module": "@jupyter-widgets/base",
            "_model_module_version": "1.5.0",
            "_view_count": null,
            "_view_module_version": "1.2.0",
            "bar_color": null,
            "_model_module": "@jupyter-widgets/controls"
          }
        },
        "8c2cb15155824867b96c2d057e08a2ed": {
          "model_module": "@jupyter-widgets/base",
          "model_name": "LayoutModel",
          "state": {
            "_view_name": "LayoutView",
            "grid_template_rows": null,
            "right": null,
            "justify_content": null,
            "_view_module": "@jupyter-widgets/base",
            "overflow": null,
            "_model_module_version": "1.2.0",
            "_view_count": null,
            "flex_flow": null,
            "width": null,
            "min_width": null,
            "border": null,
            "align_items": null,
            "bottom": null,
            "_model_module": "@jupyter-widgets/base",
            "top": null,
            "grid_column": null,
            "overflow_y": null,
            "overflow_x": null,
            "grid_auto_flow": null,
            "grid_area": null,
            "grid_template_columns": null,
            "flex": null,
            "_model_name": "LayoutModel",
            "justify_items": null,
            "grid_row": null,
            "max_height": null,
            "align_content": null,
            "visibility": null,
            "align_self": null,
            "height": null,
            "min_height": null,
            "padding": null,
            "grid_auto_rows": null,
            "grid_gap": null,
            "max_width": null,
            "order": null,
            "_view_module_version": "1.2.0",
            "grid_template_areas": null,
            "object_position": null,
            "object_fit": null,
            "grid_auto_columns": null,
            "margin": null,
            "display": null,
            "left": null
          }
        },
        "e0dc71b82773464b9a4e2ff2c02b5893": {
          "model_module": "@jupyter-widgets/controls",
          "model_name": "DescriptionStyleModel",
          "state": {
            "_view_name": "StyleView",
            "_model_name": "DescriptionStyleModel",
            "description_width": "",
            "_view_module": "@jupyter-widgets/base",
            "_model_module_version": "1.5.0",
            "_view_count": null,
            "_view_module_version": "1.2.0",
            "_model_module": "@jupyter-widgets/controls"
          }
        },
        "9e7b34cc5c74439e99586ec788d17dcc": {
          "model_module": "@jupyter-widgets/base",
          "model_name": "LayoutModel",
          "state": {
            "_view_name": "LayoutView",
            "grid_template_rows": null,
            "right": null,
            "justify_content": null,
            "_view_module": "@jupyter-widgets/base",
            "overflow": null,
            "_model_module_version": "1.2.0",
            "_view_count": null,
            "flex_flow": null,
            "width": null,
            "min_width": null,
            "border": null,
            "align_items": null,
            "bottom": null,
            "_model_module": "@jupyter-widgets/base",
            "top": null,
            "grid_column": null,
            "overflow_y": null,
            "overflow_x": null,
            "grid_auto_flow": null,
            "grid_area": null,
            "grid_template_columns": null,
            "flex": null,
            "_model_name": "LayoutModel",
            "justify_items": null,
            "grid_row": null,
            "max_height": null,
            "align_content": null,
            "visibility": null,
            "align_self": null,
            "height": null,
            "min_height": null,
            "padding": null,
            "grid_auto_rows": null,
            "grid_gap": null,
            "max_width": null,
            "order": null,
            "_view_module_version": "1.2.0",
            "grid_template_areas": null,
            "object_position": null,
            "object_fit": null,
            "grid_auto_columns": null,
            "margin": null,
            "display": null,
            "left": null
          }
        },
        "f7a56f6a020d4381867f96245dc4cabc": {
          "model_module": "@jupyter-widgets/controls",
          "model_name": "HBoxModel",
          "state": {
            "_view_name": "HBoxView",
            "_dom_classes": [],
            "_model_name": "HBoxModel",
            "_view_module": "@jupyter-widgets/controls",
            "_model_module_version": "1.5.0",
            "_view_count": null,
            "_view_module_version": "1.5.0",
            "box_style": "",
            "layout": "IPY_MODEL_e75b0bb6b72e44709a3a7ae42a1a72bc",
            "_model_module": "@jupyter-widgets/controls",
            "children": [
              "IPY_MODEL_975bedf5e5944c3896af961fb2b99cf4",
              "IPY_MODEL_68def1537b5540978e9975b1dbdc3590"
            ]
          }
        },
        "e75b0bb6b72e44709a3a7ae42a1a72bc": {
          "model_module": "@jupyter-widgets/base",
          "model_name": "LayoutModel",
          "state": {
            "_view_name": "LayoutView",
            "grid_template_rows": null,
            "right": null,
            "justify_content": null,
            "_view_module": "@jupyter-widgets/base",
            "overflow": null,
            "_model_module_version": "1.2.0",
            "_view_count": null,
            "flex_flow": null,
            "width": null,
            "min_width": null,
            "border": null,
            "align_items": null,
            "bottom": null,
            "_model_module": "@jupyter-widgets/base",
            "top": null,
            "grid_column": null,
            "overflow_y": null,
            "overflow_x": null,
            "grid_auto_flow": null,
            "grid_area": null,
            "grid_template_columns": null,
            "flex": null,
            "_model_name": "LayoutModel",
            "justify_items": null,
            "grid_row": null,
            "max_height": null,
            "align_content": null,
            "visibility": null,
            "align_self": null,
            "height": null,
            "min_height": null,
            "padding": null,
            "grid_auto_rows": null,
            "grid_gap": null,
            "max_width": null,
            "order": null,
            "_view_module_version": "1.2.0",
            "grid_template_areas": null,
            "object_position": null,
            "object_fit": null,
            "grid_auto_columns": null,
            "margin": null,
            "display": null,
            "left": null
          }
        },
        "975bedf5e5944c3896af961fb2b99cf4": {
          "model_module": "@jupyter-widgets/controls",
          "model_name": "FloatProgressModel",
          "state": {
            "_view_name": "ProgressView",
            "style": "IPY_MODEL_9f65cc992b984dcd924915da7fbddfc6",
            "_dom_classes": [],
            "description": "  0%",
            "_model_name": "FloatProgressModel",
            "bar_style": "info",
            "max": 1,
            "_view_module": "@jupyter-widgets/controls",
            "_model_module_version": "1.5.0",
            "value": 0,
            "_view_count": null,
            "_view_module_version": "1.5.0",
            "orientation": "horizontal",
            "min": 0,
            "description_tooltip": null,
            "_model_module": "@jupyter-widgets/controls",
            "layout": "IPY_MODEL_c80ba07f7d9748d58152dc67e9ef5e21"
          }
        },
        "68def1537b5540978e9975b1dbdc3590": {
          "model_module": "@jupyter-widgets/controls",
          "model_name": "HTMLModel",
          "state": {
            "_view_name": "HTMLView",
            "style": "IPY_MODEL_f0dff778be7e4d93a7b02edf415e2300",
            "_dom_classes": [],
            "description": "",
            "_model_name": "HTMLModel",
            "placeholder": "​",
            "_view_module": "@jupyter-widgets/controls",
            "_model_module_version": "1.5.0",
            "value": " 0/4542 [00:00&lt;?, ?it/s]",
            "_view_count": null,
            "_view_module_version": "1.5.0",
            "description_tooltip": null,
            "_model_module": "@jupyter-widgets/controls",
            "layout": "IPY_MODEL_2ea825742fa7484f819387a03ab7a5ae"
          }
        },
        "9f65cc992b984dcd924915da7fbddfc6": {
          "model_module": "@jupyter-widgets/controls",
          "model_name": "ProgressStyleModel",
          "state": {
            "_view_name": "StyleView",
            "_model_name": "ProgressStyleModel",
            "description_width": "initial",
            "_view_module": "@jupyter-widgets/base",
            "_model_module_version": "1.5.0",
            "_view_count": null,
            "_view_module_version": "1.2.0",
            "bar_color": null,
            "_model_module": "@jupyter-widgets/controls"
          }
        },
        "c80ba07f7d9748d58152dc67e9ef5e21": {
          "model_module": "@jupyter-widgets/base",
          "model_name": "LayoutModel",
          "state": {
            "_view_name": "LayoutView",
            "grid_template_rows": null,
            "right": null,
            "justify_content": null,
            "_view_module": "@jupyter-widgets/base",
            "overflow": null,
            "_model_module_version": "1.2.0",
            "_view_count": null,
            "flex_flow": null,
            "width": null,
            "min_width": null,
            "border": null,
            "align_items": null,
            "bottom": null,
            "_model_module": "@jupyter-widgets/base",
            "top": null,
            "grid_column": null,
            "overflow_y": null,
            "overflow_x": null,
            "grid_auto_flow": null,
            "grid_area": null,
            "grid_template_columns": null,
            "flex": null,
            "_model_name": "LayoutModel",
            "justify_items": null,
            "grid_row": null,
            "max_height": null,
            "align_content": null,
            "visibility": null,
            "align_self": null,
            "height": null,
            "min_height": null,
            "padding": null,
            "grid_auto_rows": null,
            "grid_gap": null,
            "max_width": null,
            "order": null,
            "_view_module_version": "1.2.0",
            "grid_template_areas": null,
            "object_position": null,
            "object_fit": null,
            "grid_auto_columns": null,
            "margin": null,
            "display": null,
            "left": null
          }
        },
        "f0dff778be7e4d93a7b02edf415e2300": {
          "model_module": "@jupyter-widgets/controls",
          "model_name": "DescriptionStyleModel",
          "state": {
            "_view_name": "StyleView",
            "_model_name": "DescriptionStyleModel",
            "description_width": "",
            "_view_module": "@jupyter-widgets/base",
            "_model_module_version": "1.5.0",
            "_view_count": null,
            "_view_module_version": "1.2.0",
            "_model_module": "@jupyter-widgets/controls"
          }
        },
        "2ea825742fa7484f819387a03ab7a5ae": {
          "model_module": "@jupyter-widgets/base",
          "model_name": "LayoutModel",
          "state": {
            "_view_name": "LayoutView",
            "grid_template_rows": null,
            "right": null,
            "justify_content": null,
            "_view_module": "@jupyter-widgets/base",
            "overflow": null,
            "_model_module_version": "1.2.0",
            "_view_count": null,
            "flex_flow": null,
            "width": null,
            "min_width": null,
            "border": null,
            "align_items": null,
            "bottom": null,
            "_model_module": "@jupyter-widgets/base",
            "top": null,
            "grid_column": null,
            "overflow_y": null,
            "overflow_x": null,
            "grid_auto_flow": null,
            "grid_area": null,
            "grid_template_columns": null,
            "flex": null,
            "_model_name": "LayoutModel",
            "justify_items": null,
            "grid_row": null,
            "max_height": null,
            "align_content": null,
            "visibility": null,
            "align_self": null,
            "height": null,
            "min_height": null,
            "padding": null,
            "grid_auto_rows": null,
            "grid_gap": null,
            "max_width": null,
            "order": null,
            "_view_module_version": "1.2.0",
            "grid_template_areas": null,
            "object_position": null,
            "object_fit": null,
            "grid_auto_columns": null,
            "margin": null,
            "display": null,
            "left": null
          }
        }
      }
    }
  },
  "cells": [
    {
      "cell_type": "markdown",
      "metadata": {
        "id": "ePyPgA-nd0yG",
        "colab_type": "text"
      },
      "source": [
        "# Import statements"
      ]
    },
    {
      "cell_type": "code",
      "metadata": {
        "id": "vGlgrmDNd0T4",
        "colab_type": "code",
        "colab": {}
      },
      "source": [
        "import torch\n",
        "from torchvision import transforms, datasets\n",
        "import torch.nn as nn\n",
        "from torch import optim as optim"
      ],
      "execution_count": 0,
      "outputs": []
    },
    {
      "cell_type": "markdown",
      "metadata": {
        "id": "O0pJjIAed8JP",
        "colab_type": "text"
      },
      "source": [
        "# Select Device"
      ]
    },
    {
      "cell_type": "code",
      "metadata": {
        "id": "1I44mJWydmxT",
        "colab_type": "code",
        "outputId": "8a2a5aef-81f1-453c-8ada-1c0e77901f50",
        "colab": {
          "base_uri": "https://localhost:8080/",
          "height": 34
        }
      },
      "source": [
        "device = torch.device(\"cuda\" if torch.cuda.is_available() else \"cpu\")\n",
        "print(device)"
      ],
      "execution_count": 2,
      "outputs": [
        {
          "output_type": "stream",
          "text": [
            "cuda\n"
          ],
          "name": "stdout"
        }
      ]
    },
    {
      "cell_type": "markdown",
      "metadata": {
        "id": "WnO0O9K2P3QZ",
        "colab_type": "text"
      },
      "source": [
        "# Load dataset and declare training parameters"
      ]
    },
    {
      "cell_type": "code",
      "metadata": {
        "id": "yGvGwmtNXL6S",
        "colab_type": "code",
        "colab": {
          "base_uri": "https://localhost:8080/",
          "height": 369,
          "referenced_widgets": [
            "e5d32394c00f430d90995f5ca84413d0",
            "93c72c1856da4744a6532c910abe92c6",
            "8d164534920e43bb8cd15ff4f3e1367d",
            "d136a3bf82334c16bf3419cd0057c797",
            "47dfcbcae9424b9ba0be98c49cb781a8",
            "d2bc05bc882a4236bb6d67521dbf3a17",
            "d2cb83d9e2e743bf830bf6509b21fb4a",
            "1efc1cfead8c4133962853f4e4212a2d",
            "f73bc3347d05476c947cf0b2015b75f7",
            "2fb26deda19a44a5a71a030549dfc363",
            "382132897b0e4b92a5609a7e16d1efd8",
            "f13dad36879a4df3ace4868530399102",
            "3628f5e401d6461bb6323cf8a0b9dc8b",
            "0ddc3b54749b402b8f6c79000f3a87e2",
            "5f9906d8511340649e360c2833377db4",
            "e3c0eb7742944499b28e04f15ea793aa",
            "08eb1e5cb93445a8bdc4e6a86d6a50ff",
            "f93f970fa99845dcbb49ae210b41c6ca",
            "b0dc0f7cc23a431b943f8e1d2985a12d",
            "9da5c77492c7418497b173ff5b153bae",
            "396be20107894ffc92fe8fbfb504b30d",
            "8c2cb15155824867b96c2d057e08a2ed",
            "e0dc71b82773464b9a4e2ff2c02b5893",
            "9e7b34cc5c74439e99586ec788d17dcc",
            "f7a56f6a020d4381867f96245dc4cabc",
            "e75b0bb6b72e44709a3a7ae42a1a72bc",
            "975bedf5e5944c3896af961fb2b99cf4",
            "68def1537b5540978e9975b1dbdc3590",
            "9f65cc992b984dcd924915da7fbddfc6",
            "c80ba07f7d9748d58152dc67e9ef5e21",
            "f0dff778be7e4d93a7b02edf415e2300",
            "2ea825742fa7484f819387a03ab7a5ae"
          ]
        },
        "outputId": "215eccc9-9793-4d6d-bd0b-f619a7383c13"
      },
      "source": [
        "training_parameters = {\n",
        "    \"n_epochs\": 100,\n",
        "    \"batch_size\": 100,\n",
        "}\n",
        "data_loader = torch.utils.data.DataLoader(\n",
        "  \n",
        "  datasets.MNIST('./', train=True, download=True,\n",
        "                             transform=transforms.Compose([\n",
        "                               transforms.ToTensor(),\n",
        "                               transforms.Normalize(\n",
        "                                 (0.5,), (0.5,))\n",
        "                             ])),\n",
        "  batch_size=training_parameters[\"batch_size\"], shuffle=True)"
      ],
      "execution_count": 3,
      "outputs": [
        {
          "output_type": "stream",
          "text": [
            "Downloading http://yann.lecun.com/exdb/mnist/train-images-idx3-ubyte.gz to ./MNIST/raw/train-images-idx3-ubyte.gz\n"
          ],
          "name": "stdout"
        },
        {
          "output_type": "display_data",
          "data": {
            "application/vnd.jupyter.widget-view+json": {
              "model_id": "e5d32394c00f430d90995f5ca84413d0",
              "version_minor": 0,
              "version_major": 2
            },
            "text/plain": [
              "HBox(children=(FloatProgress(value=1.0, bar_style='info', max=1.0), HTML(value='')))"
            ]
          },
          "metadata": {
            "tags": []
          }
        },
        {
          "output_type": "stream",
          "text": [
            "Extracting ./MNIST/raw/train-images-idx3-ubyte.gz to ./MNIST/raw\n",
            "Downloading http://yann.lecun.com/exdb/mnist/train-labels-idx1-ubyte.gz to ./MNIST/raw/train-labels-idx1-ubyte.gz\n"
          ],
          "name": "stdout"
        },
        {
          "output_type": "display_data",
          "data": {
            "application/vnd.jupyter.widget-view+json": {
              "model_id": "f73bc3347d05476c947cf0b2015b75f7",
              "version_minor": 0,
              "version_major": 2
            },
            "text/plain": [
              "HBox(children=(FloatProgress(value=1.0, bar_style='info', max=1.0), HTML(value='')))"
            ]
          },
          "metadata": {
            "tags": []
          }
        },
        {
          "output_type": "stream",
          "text": [
            "Extracting ./MNIST/raw/train-labels-idx1-ubyte.gz to ./MNIST/raw\n",
            "Downloading http://yann.lecun.com/exdb/mnist/t10k-images-idx3-ubyte.gz to ./MNIST/raw/t10k-images-idx3-ubyte.gz\n",
            "\n"
          ],
          "name": "stdout"
        },
        {
          "output_type": "display_data",
          "data": {
            "application/vnd.jupyter.widget-view+json": {
              "model_id": "08eb1e5cb93445a8bdc4e6a86d6a50ff",
              "version_minor": 0,
              "version_major": 2
            },
            "text/plain": [
              "HBox(children=(FloatProgress(value=1.0, bar_style='info', max=1.0), HTML(value='')))"
            ]
          },
          "metadata": {
            "tags": []
          }
        },
        {
          "output_type": "stream",
          "text": [
            "Extracting ./MNIST/raw/t10k-images-idx3-ubyte.gz to ./MNIST/raw\n",
            "Downloading http://yann.lecun.com/exdb/mnist/t10k-labels-idx1-ubyte.gz to ./MNIST/raw/t10k-labels-idx1-ubyte.gz\n"
          ],
          "name": "stdout"
        },
        {
          "output_type": "display_data",
          "data": {
            "application/vnd.jupyter.widget-view+json": {
              "model_id": "f7a56f6a020d4381867f96245dc4cabc",
              "version_minor": 0,
              "version_major": 2
            },
            "text/plain": [
              "HBox(children=(FloatProgress(value=1.0, bar_style='info', max=1.0), HTML(value='')))"
            ]
          },
          "metadata": {
            "tags": []
          }
        },
        {
          "output_type": "stream",
          "text": [
            "Extracting ./MNIST/raw/t10k-labels-idx1-ubyte.gz to ./MNIST/raw\n",
            "Processing...\n",
            "Done!\n"
          ],
          "name": "stdout"
        },
        {
          "output_type": "stream",
          "text": [
            "/pytorch/torch/csrc/utils/tensor_numpy.cpp:141: UserWarning: The given NumPy array is not writeable, and PyTorch does not support non-writeable tensors. This means you can write to the underlying (supposedly non-writeable) NumPy array using the tensor. You may want to copy the array to protect its data or make it writeable before converting it to a tensor. This type of warning will be suppressed for the rest of this program.\n"
          ],
          "name": "stderr"
        }
      ]
    },
    {
      "cell_type": "code",
      "metadata": {
        "id": "uo1RcVFSaT6R",
        "colab_type": "code",
        "outputId": "974c5f56-bdec-4918-f933-c1734ecf43eb",
        "colab": {
          "base_uri": "https://localhost:8080/",
          "height": 34
        }
      },
      "source": [
        "num_batches = len(data_loader)\n",
        "print(\"Number of batches: \",num_batches)"
      ],
      "execution_count": 4,
      "outputs": [
        {
          "output_type": "stream",
          "text": [
            "Number of batches:  600\n"
          ],
          "name": "stdout"
        }
      ]
    },
    {
      "cell_type": "markdown",
      "metadata": {
        "id": "upuWTpqEQMJG",
        "colab_type": "text"
      },
      "source": [
        "# Display an iamge"
      ]
    },
    {
      "cell_type": "code",
      "metadata": {
        "id": "qZR8ZCOm6TRY",
        "colab_type": "code",
        "outputId": "9bb9ecf3-a681-4621-8784-9c8b41fd6be0",
        "colab": {
          "base_uri": "https://localhost:8080/",
          "height": 265
        }
      },
      "source": [
        "%matplotlib inline \n",
        "from matplotlib import pyplot as plt\n",
        "\n",
        "for x,_ in data_loader:\n",
        "    plt.imshow(x.numpy()[0][0], cmap='gray')\n",
        "    break"
      ],
      "execution_count": 32,
      "outputs": [
        {
          "output_type": "display_data",
          "data": {
            "image/png": "[encoded data removed]",
            "text/plain": [
              "<Figure size 432x288 with 1 Axes>"
            ]
          },
          "metadata": {
            "tags": [],
            "needs_background": "light"
          }
        }
      ]
    },
    {
      "cell_type": "markdown",
      "metadata": {
        "id": "q_QwUBQlQSAr",
        "colab_type": "text"
      },
      "source": [
        "# Define Generator and Discriminator"
      ]
    },
    {
      "cell_type": "code",
      "metadata": {
        "id": "gOvX1SSHa41A",
        "colab_type": "code",
        "outputId": "5c998492-da71-4f44-f4f3-7f356e369579",
        "colab": {
          "base_uri": "https://localhost:8080/",
          "height": 340
        }
      },
      "source": [
        "class GeneratorModel(nn.Module):\n",
        "    def __init__(self):\n",
        "        super(GeneratorModel, self).__init__()\n",
        "        input_dim = 100 + 10\n",
        "        output_dim = 784\n",
        "        self.label_embedding = nn.Embedding(10, 10)\n",
        "        \n",
        "        self.hidden_layer1 = nn.Sequential(\n",
        "            nn.Linear(input_dim, 256),\n",
        "            nn.LeakyReLU(0.2)\n",
        "        )\n",
        "\n",
        "        self.hidden_layer2 = nn.Sequential(\n",
        "            nn.Linear(256, 512),\n",
        "            nn.LeakyReLU(0.2)\n",
        "        )\n",
        "\n",
        "        self.hidden_layer3 = nn.Sequential(\n",
        "            nn.Linear(512, 1024),\n",
        "            nn.LeakyReLU(0.2)\n",
        "        )\n",
        "\n",
        "        self.hidden_layer4 = nn.Sequential(\n",
        "            nn.Linear(1024, output_dim),\n",
        "            nn.Tanh()\n",
        "        )\n",
        "    \n",
        "    def forward(self, x, labels):\n",
        "        c = self.label_embedding(labels)\n",
        "        x = torch.cat([x,c], 1)\n",
        "        output = self.hidden_layer1(x)\n",
        "        output = self.hidden_layer2(output)\n",
        "        output = self.hidden_layer3(output)\n",
        "        output = self.hidden_layer4(output)\n",
        "        return output.to(device)\n",
        "\n",
        "class DiscriminatorModel(nn.Module):\n",
        "    def __init__(self):\n",
        "        super(DiscriminatorModel, self).__init__()\n",
        "        input_dim = 784 + 10\n",
        "        output_dim = 1\n",
        "        self.label_embedding = nn.Embedding(10, 10)\n",
        "\n",
        "        self.hidden_layer1 = nn.Sequential(\n",
        "            nn.Linear(input_dim, 1024),\n",
        "            nn.LeakyReLU(0.2),\n",
        "            nn.Dropout(0.3)\n",
        "        )\n",
        "\n",
        "        self.hidden_layer2 = nn.Sequential(\n",
        "            nn.Linear(1024, 512),\n",
        "            nn.LeakyReLU(0.2),\n",
        "            nn.Dropout(0.3)\n",
        "        )\n",
        "\n",
        "        self.hidden_layer3 = nn.Sequential(\n",
        "            nn.Linear(512, 256),\n",
        "            nn.LeakyReLU(0.2),\n",
        "            nn.Dropout(0.3)\n",
        "        )\n",
        "\n",
        "        self.hidden_layer4 = nn.Sequential(\n",
        "            nn.Linear(256, output_dim),\n",
        "            nn.Sigmoid()\n",
        "        )\n",
        "\n",
        "    def forward(self, x, labels):\n",
        "        c = self.label_embedding(labels)\n",
        "        x = torch.cat([x, c], 1)\n",
        "        output = self.hidden_layer1(x)\n",
        "        output = self.hidden_layer2(output)\n",
        "        output = self.hidden_layer3(output)\n",
        "        output = self.hidden_layer4(output)\n",
        "\n",
        "        return output.to(device)\n",
        "\n",
        "discriminator = DiscriminatorModel()\n",
        "generator = GeneratorModel()\n",
        "discriminator.to(device)\n",
        "generator.to(device)"
      ],
      "execution_count": 7,
      "outputs": [
        {
          "output_type": "execute_result",
          "data": {
            "text/plain": [
              "GeneratorModel(\n",
              "  (label_embedding): Embedding(10, 10)\n",
              "  (hidden_layer1): Sequential(\n",
              "    (0): Linear(in_features=110, out_features=256, bias=True)\n",
              "    (1): LeakyReLU(negative_slope=0.2)\n",
              "  )\n",
              "  (hidden_layer2): Sequential(\n",
              "    (0): Linear(in_features=256, out_features=512, bias=True)\n",
              "    (1): LeakyReLU(negative_slope=0.2)\n",
              "  )\n",
              "  (hidden_layer3): Sequential(\n",
              "    (0): Linear(in_features=512, out_features=1024, bias=True)\n",
              "    (1): LeakyReLU(negative_slope=0.2)\n",
              "  )\n",
              "  (hidden_layer4): Sequential(\n",
              "    (0): Linear(in_features=1024, out_features=784, bias=True)\n",
              "    (1): Tanh()\n",
              "  )\n",
              ")"
            ]
          },
          "metadata": {
            "tags": []
          },
          "execution_count": 7
        }
      ]
    },
    {
      "cell_type": "markdown",
      "metadata": {
        "id": "IMuVQHnZQhU9",
        "colab_type": "text"
      },
      "source": [
        "# Initilize Optimizers, loss function\n"
      ]
    },
    {
      "cell_type": "code",
      "metadata": {
        "id": "j1GQkiSFxzPe",
        "colab_type": "code",
        "colab": {}
      },
      "source": [
        "discriminator_optimizer = optim.Adam(discriminator.parameters(), lr=0.0002)\n",
        "generator_optimizer = optim.Adam(generator.parameters(), lr=0.0002)\n",
        "\n",
        "loss = nn.BCELoss()\n"
      ],
      "execution_count": 0,
      "outputs": []
    },
    {
      "cell_type": "code",
      "metadata": {
        "id": "R9M9PvYPFxKO",
        "colab_type": "code",
        "colab": {
          "base_uri": "https://localhost:8080/",
          "height": 102
        },
        "outputId": "406be341-ee43-403f-af41-260333d5e26b"
      },
      "source": [
        "torch.ones(batch_size, dtype = torch.long)"
      ],
      "execution_count": 22,
      "outputs": [
        {
          "output_type": "execute_result",
          "data": {
            "text/plain": [
              "tensor([1, 1, 1, 1, 1, 1, 1, 1, 1, 1, 1, 1, 1, 1, 1, 1, 1, 1, 1, 1, 1, 1, 1, 1,\n",
              "        1, 1, 1, 1, 1, 1, 1, 1, 1, 1, 1, 1, 1, 1, 1, 1, 1, 1, 1, 1, 1, 1, 1, 1,\n",
              "        1, 1, 1, 1, 1, 1, 1, 1, 1, 1, 1, 1, 1, 1, 1, 1, 1, 1, 1, 1, 1, 1, 1, 1,\n",
              "        1, 1, 1, 1, 1, 1, 1, 1, 1, 1, 1, 1, 1, 1, 1, 1, 1, 1, 1, 1, 1, 1, 1, 1,\n",
              "        1, 1, 1, 1])"
            ]
          },
          "metadata": {
            "tags": []
          },
          "execution_count": 22
        }
      ]
    },
    {
      "cell_type": "markdown",
      "metadata": {
        "id": "OLvXAR7Px1ja",
        "colab_type": "text"
      },
      "source": [
        "# Training Loop"
      ]
    },
    {
      "cell_type": "code",
      "metadata": {
        "id": "8sp6taoHSioH",
        "colab_type": "code",
        "outputId": "63b6f804-3028-4806-f552-58b5580f6a09",
        "colab": {
          "base_uri": "https://localhost:8080/",
          "height": 1000
        }
      },
      "source": [
        "n_epochs = training_parameters[\"n_epochs\"]\n",
        "batch_size = training_parameters[\"batch_size\"]\n",
        "\n",
        "for epoch_idx in range(n_epochs):\n",
        "    G_loss = []\n",
        "    D_loss = []\n",
        "    for batch_idx, data_input in enumerate(data_loader):\n",
        "        \n",
        "        \n",
        "        noise = torch.randn(batch_size,100).to(device)\n",
        "        fake_labels = torch.randint(0, 10, (batch_size,)).to(device)\n",
        "        generated_data = generator(noise, fake_labels) # batch_size X 784\n",
        "\n",
        "        \n",
        "        # Discriminator\n",
        "        true_data = data_input[0].view(batch_size, 784).to(device) # batch_size X 784\n",
        "        digit_labels = data_input[1].to(device) # batch_size\n",
        "        true_labels = torch.ones(batch_size).to(device)\n",
        "        \n",
        "        discriminator_optimizer.zero_grad()\n",
        "\n",
        "        discriminator_output_for_true_data = discriminator(true_data, digit_labels).view(batch_size)\n",
        "        true_discriminator_loss = loss(discriminator_output_for_true_data, true_labels)\n",
        "\n",
        "        discriminator_output_for_generated_data = discriminator(generated_data.detach(), fake_labels).view(batch_size)\n",
        "        generator_discriminator_loss = loss(\n",
        "            discriminator_output_for_generated_data, torch.zeros(batch_size).to(device)\n",
        "        )\n",
        "        discriminator_loss = (\n",
        "            true_discriminator_loss + generator_discriminator_loss\n",
        "        ) / 2\n",
        "        \n",
        "        discriminator_loss.backward()\n",
        "        discriminator_optimizer.step()\n",
        "\n",
        "        D_loss.append(discriminator_loss.data.item())\n",
        "        \n",
        "        \n",
        "        # Generator\n",
        "\n",
        "        generator_optimizer.zero_grad()\n",
        "        # It's a choice to generate the data again\n",
        "        generated_data = generator(noise, fake_labels) # batch_size X 784\n",
        "        discriminator_output_on_generated_data = discriminator(generated_data, fake_labels).view(batch_size)\n",
        "        generator_loss = loss(discriminator_output_on_generated_data, true_labels)\n",
        "        generator_loss.backward()\n",
        "        generator_optimizer.step()\n",
        "        \n",
        "        G_loss.append(generator_loss.data.item())\n",
        "        if ((batch_idx + 1)% 500 == 0 and (epoch_idx + 1)%10 == 0):\n",
        "            print(\"Training Steps Completed: \", batch_idx)\n",
        "            \n",
        "            with torch.no_grad():\n",
        "                noise = torch.randn(batch_size,100).to(device)\n",
        "                fake_labels = torch.randint(0, 10, (batch_size,)).to(device)\n",
        "                generated_data = generator(noise, fake_labels).cpu().view(batch_size, 28, 28)\n",
        "                for x in generated_data:\n",
        "                    print(fake_labels[0].item())\n",
        "                    plt.imshow(x.detach().numpy(), interpolation='nearest',cmap='gray')\n",
        "                    plt.show()\n",
        "\n",
        "                    break\n",
        "\n",
        "\n",
        "    print('[%d/%d]: loss_d: %.3f, loss_g: %.3f' % (\n",
        "            (epoch_idx), n_epochs, torch.mean(torch.FloatTensor(D_loss)), torch.mean(torch.FloatTensor(G_loss))))\n",
        "    "
      ],
      "execution_count": 33,
      "outputs": [
        {
          "output_type": "stream",
          "text": [
            "[0/100]: loss_d: 0.425, loss_g: 1.772\n",
            "[1/100]: loss_d: 0.463, loss_g: 1.595\n",
            "[2/100]: loss_d: 0.468, loss_g: 1.571\n",
            "[3/100]: loss_d: 0.474, loss_g: 1.556\n",
            "[4/100]: loss_d: 0.490, loss_g: 1.465\n",
            "[5/100]: loss_d: 0.493, loss_g: 1.461\n",
            "[6/100]: loss_d: 0.497, loss_g: 1.453\n",
            "[7/100]: loss_d: 0.504, loss_g: 1.430\n",
            "[8/100]: loss_d: 0.493, loss_g: 1.467\n",
            "Training Steps Completed:  499\n",
            "2\n"
          ],
          "name": "stdout"
        },
        {
          "output_type": "display_data",
          "data": {
            "image/png": "[encoded data removed]",
            "text/plain": [
              "<Figure size 432x288 with 1 Axes>"
            ]
          },
          "metadata": {
            "tags": [],
            "needs_background": "light"
          }
        },
        {
          "output_type": "stream",
          "text": [
            "[9/100]: loss_d: 0.513, loss_g: 1.366\n",
            "[10/100]: loss_d: 0.529, loss_g: 1.311\n",
            "[11/100]: loss_d: 0.525, loss_g: 1.303\n",
            "[12/100]: loss_d: 0.522, loss_g: 1.321\n",
            "[13/100]: loss_d: 0.537, loss_g: 1.258\n",
            "[14/100]: loss_d: 0.543, loss_g: 1.230\n",
            "[15/100]: loss_d: 0.564, loss_g: 1.173\n",
            "[16/100]: loss_d: 0.556, loss_g: 1.199\n",
            "[17/100]: loss_d: 0.556, loss_g: 1.188\n",
            "[18/100]: loss_d: 0.565, loss_g: 1.146\n",
            "Training Steps Completed:  499\n",
            "7\n"
          ],
          "name": "stdout"
        },
        {
          "output_type": "display_data",
          "data": {
            "image/png": "[encoded data removed]",
            "text/plain": [
              "<Figure size 432x288 with 1 Axes>"
            ]
          },
          "metadata": {
            "tags": [],
            "needs_background": "light"
          }
        },
        {
          "output_type": "stream",
          "text": [
            "[19/100]: loss_d: 0.564, loss_g: 1.151\n",
            "[20/100]: loss_d: 0.569, loss_g: 1.137\n",
            "[21/100]: loss_d: 0.558, loss_g: 1.195\n",
            "[22/100]: loss_d: 0.571, loss_g: 1.145\n",
            "[23/100]: loss_d: 0.574, loss_g: 1.115\n",
            "[24/100]: loss_d: 0.582, loss_g: 1.092\n",
            "[25/100]: loss_d: 0.577, loss_g: 1.100\n",
            "[26/100]: loss_d: 0.584, loss_g: 1.086\n",
            "[27/100]: loss_d: 0.587, loss_g: 1.069\n",
            "[28/100]: loss_d: 0.594, loss_g: 1.049\n",
            "Training Steps Completed:  499\n",
            "3\n"
          ],
          "name": "stdout"
        },
        {
          "output_type": "display_data",
          "data": {
            "image/png": "[encoded data removed]",
            "text/plain": [
              "<Figure size 432x288 with 1 Axes>"
            ]
          },
          "metadata": {
            "tags": [],
            "needs_background": "light"
          }
        },
        {
          "output_type": "stream",
          "text": [
            "[29/100]: loss_d: 0.598, loss_g: 1.032\n",
            "[30/100]: loss_d: 0.597, loss_g: 1.043\n",
            "[31/100]: loss_d: 0.607, loss_g: 1.012\n",
            "[32/100]: loss_d: 0.603, loss_g: 1.002\n",
            "[33/100]: loss_d: 0.604, loss_g: 1.020\n",
            "[34/100]: loss_d: 0.607, loss_g: 0.993\n",
            "[35/100]: loss_d: 0.613, loss_g: 0.975\n",
            "[36/100]: loss_d: 0.614, loss_g: 0.978\n",
            "[37/100]: loss_d: 0.605, loss_g: 0.995\n",
            "[38/100]: loss_d: 0.607, loss_g: 1.004\n",
            "Training Steps Completed:  499\n",
            "9\n"
          ],
          "name": "stdout"
        },
        {
          "output_type": "display_data",
          "data": {
            "image/png": "[encoded data removed]",
            "text/plain": [
              "<Figure size 432x288 with 1 Axes>"
            ]
          },
          "metadata": {
            "tags": [],
            "needs_background": "light"
          }
        },
        {
          "output_type": "stream",
          "text": [
            "[39/100]: loss_d: 0.613, loss_g: 0.981\n",
            "[40/100]: loss_d: 0.615, loss_g: 0.967\n",
            "[41/100]: loss_d: 0.612, loss_g: 0.986\n",
            "[42/100]: loss_d: 0.607, loss_g: 1.004\n",
            "[43/100]: loss_d: 0.620, loss_g: 0.945\n",
            "[44/100]: loss_d: 0.627, loss_g: 0.932\n",
            "[45/100]: loss_d: 0.621, loss_g: 0.964\n",
            "[46/100]: loss_d: 0.625, loss_g: 0.939\n",
            "[47/100]: loss_d: 0.618, loss_g: 0.966\n",
            "[48/100]: loss_d: 0.626, loss_g: 0.951\n",
            "Training Steps Completed:  499\n",
            "5\n"
          ],
          "name": "stdout"
        },
        {
          "output_type": "display_data",
          "data": {
            "image/png": "[encoded data removed]",
            "text/plain": [
              "<Figure size 432x288 with 1 Axes>"
            ]
          },
          "metadata": {
            "tags": [],
            "needs_background": "light"
          }
        },
        {
          "output_type": "stream",
          "text": [
            "[49/100]: loss_d: 0.626, loss_g: 0.934\n",
            "[50/100]: loss_d: 0.629, loss_g: 0.928\n",
            "[51/100]: loss_d: 0.620, loss_g: 0.950\n",
            "[52/100]: loss_d: 0.632, loss_g: 0.916\n",
            "[53/100]: loss_d: 0.626, loss_g: 0.938\n",
            "[54/100]: loss_d: 0.626, loss_g: 0.931\n",
            "[55/100]: loss_d: 0.632, loss_g: 0.918\n",
            "[56/100]: loss_d: 0.630, loss_g: 0.922\n",
            "[57/100]: loss_d: 0.634, loss_g: 0.909\n",
            "[58/100]: loss_d: 0.629, loss_g: 0.928\n",
            "Training Steps Completed:  499\n",
            "6\n"
          ],
          "name": "stdout"
        },
        {
          "output_type": "display_data",
          "data": {
            "image/png": "[encoded data removed]",
            "text/plain": [
              "<Figure size 432x288 with 1 Axes>"
            ]
          },
          "metadata": {
            "tags": [],
            "needs_background": "light"
          }
        },
        {
          "output_type": "stream",
          "text": [
            "[59/100]: loss_d: 0.631, loss_g: 0.929\n",
            "[60/100]: loss_d: 0.630, loss_g: 0.919\n",
            "[61/100]: loss_d: 0.635, loss_g: 0.901\n",
            "[62/100]: loss_d: 0.631, loss_g: 0.923\n",
            "[63/100]: loss_d: 0.633, loss_g: 0.915\n",
            "[64/100]: loss_d: 0.637, loss_g: 0.890\n",
            "[65/100]: loss_d: 0.643, loss_g: 0.884\n",
            "[66/100]: loss_d: 0.635, loss_g: 0.910\n",
            "[67/100]: loss_d: 0.633, loss_g: 0.911\n",
            "[68/100]: loss_d: 0.639, loss_g: 0.882\n",
            "Training Steps Completed:  499\n",
            "2\n"
          ],
          "name": "stdout"
        },
        {
          "output_type": "display_data",
          "data": {
            "image/png": "[encoded data removed]",
            "text/plain": [
              "<Figure size 432x288 with 1 Axes>"
            ]
          },
          "metadata": {
            "tags": [],
            "needs_background": "light"
          }
        },
        {
          "output_type": "stream",
          "text": [
            "[69/100]: loss_d: 0.637, loss_g: 0.904\n",
            "[70/100]: loss_d: 0.638, loss_g: 0.894\n",
            "[71/100]: loss_d: 0.641, loss_g: 0.884\n",
            "[72/100]: loss_d: 0.645, loss_g: 0.875\n",
            "[73/100]: loss_d: 0.634, loss_g: 0.909\n",
            "[74/100]: loss_d: 0.640, loss_g: 0.898\n",
            "[75/100]: loss_d: 0.644, loss_g: 0.865\n",
            "[76/100]: loss_d: 0.643, loss_g: 0.879\n",
            "[77/100]: loss_d: 0.647, loss_g: 0.876\n",
            "[78/100]: loss_d: 0.642, loss_g: 0.897\n",
            "Training Steps Completed:  499\n",
            "5\n"
          ],
          "name": "stdout"
        },
        {
          "output_type": "display_data",
          "data": {
            "image/png": "[encoded data removed]",
            "text/plain": [
              "<Figure size 432x288 with 1 Axes>"
            ]
          },
          "metadata": {
            "tags": [],
            "needs_background": "light"
          }
        },
        {
          "output_type": "stream",
          "text": [
            "[79/100]: loss_d: 0.641, loss_g: 0.883\n",
            "[80/100]: loss_d: 0.643, loss_g: 0.885\n",
            "[81/100]: loss_d: 0.643, loss_g: 0.876\n",
            "[82/100]: loss_d: 0.641, loss_g: 0.889\n",
            "[83/100]: loss_d: 0.645, loss_g: 0.877\n",
            "[84/100]: loss_d: 0.645, loss_g: 0.858\n",
            "[85/100]: loss_d: 0.645, loss_g: 0.885\n",
            "[86/100]: loss_d: 0.645, loss_g: 0.866\n",
            "[87/100]: loss_d: 0.647, loss_g: 0.862\n",
            "[88/100]: loss_d: 0.648, loss_g: 0.866\n",
            "Training Steps Completed:  499\n",
            "2\n"
          ],
          "name": "stdout"
        },
        {
          "output_type": "display_data",
          "data": {
            "image/png": "[encoded data removed]",
            "text/plain": [
              "<Figure size 432x288 with 1 Axes>"
            ]
          },
          "metadata": {
            "tags": [],
            "needs_background": "light"
          }
        },
        {
          "output_type": "stream",
          "text": [
            "[89/100]: loss_d: 0.649, loss_g: 0.856\n",
            "[90/100]: loss_d: 0.652, loss_g: 0.860\n",
            "[91/100]: loss_d: 0.651, loss_g: 0.848\n",
            "[92/100]: loss_d: 0.648, loss_g: 0.870\n",
            "[93/100]: loss_d: 0.643, loss_g: 0.889\n",
            "[94/100]: loss_d: 0.641, loss_g: 0.886\n",
            "[95/100]: loss_d: 0.649, loss_g: 0.867\n",
            "[96/100]: loss_d: 0.648, loss_g: 0.854\n",
            "[97/100]: loss_d: 0.652, loss_g: 0.850\n",
            "[98/100]: loss_d: 0.651, loss_g: 0.859\n",
            "Training Steps Completed:  499\n",
            "7\n"
          ],
          "name": "stdout"
        },
        {
          "output_type": "display_data",
          "data": {
            "image/png": "[encoded data removed]",
            "text/plain": [
              "<Figure size 432x288 with 1 Axes>"
            ]
          },
          "metadata": {
            "tags": [],
            "needs_background": "light"
          }
        },
        {
          "output_type": "stream",
          "text": [
            "[99/100]: loss_d: 0.651, loss_g: 0.845\n"
          ],
          "name": "stdout"
        }
      ]
    }
  ]
}